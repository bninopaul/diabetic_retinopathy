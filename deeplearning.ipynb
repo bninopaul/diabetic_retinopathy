{
 "cells": [
  {
   "cell_type": "code",
   "execution_count": 3,
   "metadata": {},
   "outputs": [
    {
     "name": "stderr",
     "output_type": "stream",
     "text": [
      "/home/nbatanay/.conda/envs/diab_ret/lib/python3.6/importlib/_bootstrap.py:219: RuntimeWarning: compiletime version 3.5 of module 'tensorflow.python.framework.fast_tensor_util' does not match runtime version 3.6\n",
      "  return f(*args, **kwds)\n"
     ]
    },
    {
     "data": {
      "text/plain": [
       "[name: \"/device:CPU:0\"\n",
       " device_type: \"CPU\"\n",
       " memory_limit: 268435456\n",
       " locality {\n",
       " }\n",
       " incarnation: 7290484517316869845, name: \"/device:GPU:0\"\n",
       " device_type: \"GPU\"\n",
       " memory_limit: 55574528\n",
       " locality {\n",
       "   bus_id: 2\n",
       " }\n",
       " incarnation: 6675275699598249381\n",
       " physical_device_desc: \"device: 0, name: GeForce GTX 1080, pci bus id: 0000:81:00.0, compute capability: 6.1\"]"
      ]
     },
     "execution_count": 3,
     "metadata": {},
     "output_type": "execute_result"
    }
   ],
   "source": [
    "import numpy as np\n",
    "import pandas as pd\n",
    "import matplotlib.pyplot as plt\n",
    "import os\n",
    "from subprocess import check_output\n",
    "import glob\n",
    "import cv2 as cv\n",
    "import multiprocessing as mp\n",
    "from itertools import repeat\n",
    "%matplotlib inline\n",
    "\n",
    "#check if GPU is properly configured\n",
    "from tensorflow.python.client import device_lib\n",
    "\n",
    "device_lib.list_local_devices()"
   ]
  },
  {
   "cell_type": "code",
   "execution_count": 4,
   "metadata": {},
   "outputs": [],
   "source": [
    "base_path = \"/home/nbatanay/.kaggle/diabetic_retinopathy_detection/train_preprocessed/\"\n",
    "images_files = glob.glob(base_path+\"images_*.pkl\")\n",
    "label_ids_files = glob.glob(base_path+\"lab_id_*.pkl\")"
   ]
  },
  {
   "cell_type": "code",
   "execution_count": 11,
   "metadata": {},
   "outputs": [
    {
     "name": "stdout",
     "output_type": "stream",
     "text": [
      "CPU times: user 17.7 s, sys: 1min 2s, total: 1min 19s\n",
      "Wall time: 3min 14s\n"
     ]
    }
   ],
   "source": [
    "%%time\n",
    "num_batch = 1\n",
    "images = []\n",
    "label_ids = []\n",
    "for img_file in np.sort(images_files)[:num_batch]: \n",
    "    img = pd.read_pickle(img_file)\n",
    "    batch = img_file.split(\"_\")[-1].split(\".\")[0]\n",
    "    lab_id_file = base_path+\"lab_id_%s.pkl\"%batch\n",
    "    lab_id = pd.read_pickle(lab_id_file)\n",
    "    \n",
    "    images.append(img)\n",
    "    label_ids.append(lab_id)\n",
    "    \n",
    "images = np.concatenate(images)\n",
    "label_ids = np.concatenate(label_ids)\n",
    "labels = label_ids[:,1]"
   ]
  },
  {
   "cell_type": "code",
   "execution_count": 12,
   "metadata": {},
   "outputs": [
    {
     "data": {
      "text/plain": [
       "((2000, 700, 700, 3), (2000, 2))"
      ]
     },
     "execution_count": 12,
     "metadata": {},
     "output_type": "execute_result"
    }
   ],
   "source": [
    "images.shape, label_ids.shape"
   ]
  },
  {
   "cell_type": "code",
   "execution_count": 16,
   "metadata": {},
   "outputs": [
    {
     "data": {
      "text/plain": [
       "0    1440\n",
       "1     141\n",
       "2     318\n",
       "3      64\n",
       "4      37\n",
       "dtype: int64"
      ]
     },
     "execution_count": 16,
     "metadata": {},
     "output_type": "execute_result"
    }
   ],
   "source": [
    "pd.value_counts(labels).sort_index()"
   ]
  },
  {
   "cell_type": "code",
   "execution_count": null,
   "metadata": {},
   "outputs": [],
   "source": []
  }
 ],
 "metadata": {
  "kernelspec": {
   "display_name": "Python [conda env:diab_ret]",
   "language": "python",
   "name": "conda-env-diab_ret-py"
  },
  "language_info": {
   "codemirror_mode": {
    "name": "ipython",
    "version": 3
   },
   "file_extension": ".py",
   "mimetype": "text/x-python",
   "name": "python",
   "nbconvert_exporter": "python",
   "pygments_lexer": "ipython3",
   "version": "3.6.6"
  }
 },
 "nbformat": 4,
 "nbformat_minor": 2
}
